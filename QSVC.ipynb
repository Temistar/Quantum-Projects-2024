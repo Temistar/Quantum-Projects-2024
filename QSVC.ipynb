{
 "cells": [
  {
   "cell_type": "code",
   "execution_count": 2,
   "id": "3a232261-2f86-441d-8b7a-68fd4776d219",
   "metadata": {},
   "outputs": [
    {
     "name": "stdout",
     "output_type": "stream",
     "text": [
      "Prediction for new data point: [1]\n"
     ]
    }
   ],
   "source": [
    "import pennylane as qml\n",
    "import numpy as np\n",
    "from sklearn.svm import SVC\n",
    "from sklearn.preprocessing import StandardScaler\n",
    "\n",
    "# Define the quantum device with 2 qubits\n",
    "dev = qml.device(\"default.qubit\", wires=2)\n",
    "\n",
    "# Quantum circuit architecture\n",
    "def circuit(x1, x2):\n",
    "    \"\"\"Apply feature encoding and entangling operations.\"\"\"\n",
    "    qml.RY(x1, wires=0)\n",
    "    qml.RY(x2, wires=1)\n",
    "    qml.CNOT(wires=[0, 1])\n",
    "    qml.RY(x1, wires=0)\n",
    "    qml.RY(x2, wires=1)\n",
    "    qml.CNOT(wires=[0, 1])\n",
    "\n",
    "# Define the quantum kernel function\n",
    "@qml.qnode(dev)\n",
    "def quantum_kernel(x1, x2):\n",
    "    circuit(x1, x2)\n",
    "    return qml.expval(qml.PauliZ(0))\n",
    "\n",
    "def kernel_matrix(X):\n",
    "    \"\"\"Compute the quantum kernel matrix for the dataset.\"\"\"\n",
    "    num_samples = len(X)\n",
    "    K = np.zeros((num_samples, num_samples))\n",
    "    for i in range(num_samples):\n",
    "        for j in range(num_samples):\n",
    "            K[i, j] = quantum_kernel(X[i, 0], X[j, 0])\n",
    "    return K\n",
    "\n",
    "# Generate simple training dataset\n",
    "X_train = np.array([[-1, -1], [-1, 1], [1, -1], [1, 1]])\n",
    "y_train = np.array([1, 1, -1, -1])\n",
    "\n",
    "# Scale features to range [-1, 1] for better generalization\n",
    "scaler = StandardScaler()\n",
    "X_train_scaled = scaler.fit_transform(X_train)\n",
    "\n",
    "# Compute the quantum kernel matrix\n",
    "K_train = kernel_matrix(X_train_scaled)\n",
    "\n",
    "# Train an SVM classifier with the quantum kernel\n",
    "svm = SVC(kernel=\"precomputed\")  # Use precomputed quantum kernel\n",
    "svm.fit(K_train, y_train)\n",
    "\n",
    "# Test on a new data point\n",
    "X_test = np.array([[0.5, 0.5]])  # New sample to classify\n",
    "X_test_scaled = scaler.transform(X_test)  # Scale test data\n",
    "\n",
    "# Compute the test kernel matrix\n",
    "K_test = np.array([[quantum_kernel(X_test_scaled[0, 0], x[0]) for x in X_train_scaled]])\n",
    "\n",
    "# Predict class label for new sample\n",
    "prediction = svm.predict(K_test)\n",
    "print(\"Prediction for new data point:\", prediction)\n"
   ]
  },
  {
   "cell_type": "code",
   "execution_count": null,
   "id": "01194017-94be-474d-9efc-cfd2fc4cada5",
   "metadata": {},
   "outputs": [],
   "source": []
  }
 ],
 "metadata": {
  "kernelspec": {
   "display_name": "Python (qiskit_env)",
   "language": "python",
   "name": "qiskit_env"
  },
  "language_info": {
   "codemirror_mode": {
    "name": "ipython",
    "version": 3
   },
   "file_extension": ".py",
   "mimetype": "text/x-python",
   "name": "python",
   "nbconvert_exporter": "python",
   "pygments_lexer": "ipython3",
   "version": "3.12.7"
  }
 },
 "nbformat": 4,
 "nbformat_minor": 5
}

{
 "cells": [
  {
   "cell_type": "code",
   "execution_count": 1,
   "id": "1d859c69",
   "metadata": {},
   "outputs": [
    {
     "name": "stdout",
     "output_type": "stream",
     "text": [
      "Epoch 1: loss = 0.8439\n",
      "Epoch 2: loss = 0.7431\n",
      "Epoch 3: loss = 0.6654\n",
      "Epoch 4: loss = 0.6129\n",
      "Epoch 5: loss = 0.5824\n",
      "Epoch 6: loss = 0.5571\n",
      "Epoch 7: loss = 0.5309\n",
      "Epoch 8: loss = 0.5033\n",
      "Epoch 9: loss = 0.4700\n",
      "Epoch 10: loss = 0.4350\n",
      "Epoch 11: loss = 0.4037\n",
      "Epoch 12: loss = 0.3748\n",
      "Epoch 13: loss = 0.3451\n",
      "Epoch 14: loss = 0.3184\n",
      "Epoch 15: loss = 0.2952\n",
      "Epoch 16: loss = 0.2754\n",
      "Epoch 17: loss = 0.2627\n",
      "Epoch 18: loss = 0.2496\n",
      "Epoch 19: loss = 0.2318\n",
      "Epoch 20: loss = 0.2168\n",
      "Epoch 21: loss = 0.2062\n",
      "Epoch 22: loss = 0.1927\n",
      "Epoch 23: loss = 0.1778\n",
      "Epoch 24: loss = 0.1640\n",
      "Epoch 25: loss = 0.1519\n",
      "Epoch 26: loss = 0.1406\n",
      "Epoch 27: loss = 0.1287\n",
      "Epoch 28: loss = 0.1172\n",
      "Epoch 29: loss = 0.1078\n",
      "Epoch 30: loss = 0.0998\n"
     ]
    },
    {
     "data": {
      "image/png": "[encoded data removed]",
      "text/plain": [
       "<Figure size 640x480 with 1 Axes>"
      ]
     },
     "metadata": {},
     "output_type": "display_data"
    },
    {
     "name": "stdout",
     "output_type": "stream",
     "text": [
      "\n",
      "Test Predictions:\n",
      "Input: [0.0, 0.0] → Predicted: 0.027 (Expected: 0.0)\n",
      "Input: [0.0, 1.0] → Predicted: 0.049 (Expected: 0.0)\n",
      "Input: [1.0, 0.0] → Predicted: 0.030 (Expected: 0.0)\n",
      "Input: [1.0, 1.0] → Predicted: 0.773 (Expected: 1.0)\n"
     ]
    }
   ],
   "source": [
    "import pennylane as qml\n",
    "from pennylane import numpy as np\n",
    "import torch\n",
    "import torch.nn as nn\n",
    "import torch.optim as optim\n",
    "import matplotlib.pyplot as plt\n",
    "\n",
    "# ---- Data (AND logic gate) ----\n",
    "X = torch.tensor([[0, 0], [0, 1], [1, 0], [1, 1]], dtype=torch.float32)\n",
    "Y = torch.tensor([[0], [0], [0], [1]], dtype=torch.float32)\n",
    "\n",
    "# ---- Quantum Circuit ----\n",
    "n_qubits = 2\n",
    "dev = qml.device(\"default.qubit\", wires=n_qubits)\n",
    "\n",
    "@qml.qnode(dev, interface=\"torch\")\n",
    "def quantum_circuit(inputs, weights):\n",
    "    # Encode classical data\n",
    "    for i in range(n_qubits):\n",
    "        qml.RY(np.pi * inputs[i], wires=i)\n",
    "    \n",
    "    # Simple entanglement\n",
    "    qml.CNOT(wires=[0, 1])\n",
    "\n",
    "    # Variational layer\n",
    "    for i in range(n_qubits):\n",
    "        qml.RY(weights[i], wires=i)\n",
    "\n",
    "    return qml.expval(qml.PauliZ(0))\n",
    "\n",
    "# ---- Hybrid Quantum-Classical Layer ----\n",
    "class HybridQNN(nn.Module):\n",
    "    def __init__(self):\n",
    "        super().__init__()\n",
    "        self.clayer_1 = nn.Linear(2, 2)          # Classical preprocessing\n",
    "        self.q_params = nn.Parameter(torch.randn(2) * 0.01)  # Quantum trainable weights\n",
    "        self.clayer_2 = nn.Linear(1, 1)          # Post-quantum layer\n",
    "\n",
    "    def forward(self, x):\n",
    "        x = self.clayer_1(x)\n",
    "        x = torch.tanh(x)\n",
    "        q_out = torch.stack([quantum_circuit(x[i], self.q_params) for i in range(len(x))])\n",
    "        q_out = q_out.unsqueeze(1).float()  # Convert to float32\n",
    "        x = self.clayer_2(q_out)\n",
    "        x = torch.sigmoid(x)\n",
    "        return x\n",
    "\n",
    "\n",
    "# ---- Training ----\n",
    "model = HybridQNN()\n",
    "optimizer = optim.Adam(model.parameters(), lr=0.1)\n",
    "loss_fn = nn.BCELoss()\n",
    "\n",
    "losses = []\n",
    "\n",
    "for epoch in range(30):\n",
    "    optimizer.zero_grad()\n",
    "    y_pred = model(X)\n",
    "    loss = loss_fn(y_pred, Y)\n",
    "    loss.backward()\n",
    "    optimizer.step()\n",
    "    losses.append(loss.item())\n",
    "    print(f\"Epoch {epoch+1}: loss = {loss.item():.4f}\")\n",
    "\n",
    "# ---- Plotting ----\n",
    "plt.plot(losses)\n",
    "plt.xlabel(\"Epoch\")\n",
    "plt.ylabel(\"Loss\")\n",
    "plt.title(\"Training Loss\")\n",
    "plt.grid(True)\n",
    "plt.show()\n",
    "\n",
    "# ---- Test Output ----\n",
    "print(\"\\nTest Predictions:\")\n",
    "with torch.no_grad():\n",
    "    for i in range(len(X)):\n",
    "        pred = model(X[i].unsqueeze(0))\n",
    "        print(f\"Input: {X[i].tolist()} → Predicted: {pred.item():.3f} (Expected: {Y[i].item()})\")"
   ]
  },
  {
   "cell_type": "code",
   "execution_count": null,
   "id": "3bfcfb62-2cdc-4923-ac4d-157f6902f371",
   "metadata": {},
   "outputs": [],
   "source": []
  }
 ],
 "metadata": {
  "kernelspec": {
   "display_name": "Python (qiskit_env)",
   "language": "python",
   "name": "qiskit_env"
  },
  "language_info": {
   "codemirror_mode": {
    "name": "ipython",
    "version": 3
   },
   "file_extension": ".py",
   "mimetype": "text/x-python",
   "name": "python",
   "nbconvert_exporter": "python",
   "pygments_lexer": "ipython3",
   "version": "3.12.7"
  }
 },
 "nbformat": 4,
 "nbformat_minor": 5
}
